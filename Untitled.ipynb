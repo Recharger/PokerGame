{
 "cells": [
  {
   "cell_type": "code",
   "execution_count": 260,
   "metadata": {},
   "outputs": [],
   "source": [
    "from enum import Enum, IntEnum\n",
    "from random import shuffle\n",
    "import hashlib\n",
    "\n",
    "\n",
    "class PokerHands(IntEnum):\n",
    "    STRAIGHT_FLUSH = 22\n",
    "    QUADS = 21\n",
    "    FULL_HOUSE = 20\n",
    "    FLUSH = 19\n",
    "    STRAIGHT = 18\n",
    "    SET = 17\n",
    "    TWO_PAIRS = 16\n",
    "    ONE_PAIR = 15\n",
    "    HIGH_CARD = 0\n",
    "    "
   ]
  },
  {
   "cell_type": "code",
   "execution_count": 166,
   "metadata": {},
   "outputs": [],
   "source": [
    "class Rank(IntEnum):\n",
    "    \"\"\"   To express values of each rank   \"\"\"\n",
    "    TWO = 2\n",
    "    THREE = 3\n",
    "    FOUR = 4\n",
    "    FIVE = 5\n",
    "    SIX = 6\n",
    "    SEVEN = 7\n",
    "    EIGHT = 8\n",
    "    NINE = 9\n",
    "    TEN = 10\n",
    "    JACK = 11\n",
    "    QUEEN = 12\n",
    "    KING = 13\n",
    "    ACE = 14\n",
    "\n",
    "\n",
    "class Suit(Enum):\n",
    "    SPADES = 'spades'\n",
    "    HEARTS = 'hearts'\n",
    "    DIAMONDS = 'diamonds'\n",
    "    CLUBS = 'clubs'\n",
    "\n",
    "    \n",
    "class Card:\n",
    "    \"   Represent a card itself   \"\n",
    "    SUIT = None\n",
    "    RANK = None\n",
    "    VALUE = None\n",
    "    \n",
    "    def __init__(self, suit, rank):\n",
    "        self.RANK = rank\n",
    "        self.SUIT = suit\n",
    "        self.VALUE = rank.value\n",
    "        \n",
    "    def __repr__(self):\n",
    "        return f\"<Card: {self.name()}>\"\n",
    "\n",
    "    def __gt__(self, other_instance):\n",
    "        if not isinstance(other_instance, Card):\n",
    "            # don't attempt to compare against unrelated types\n",
    "            return NotImplemented\n",
    "        return self.VALUE > other_instance.VALUE\n",
    "    \n",
    "    def __eq__(self, other_instance):\n",
    "        if not isinstance(other_instance, Card):\n",
    "            # don't attempt to compare against unrelated types\n",
    "            return NotImplemented\n",
    "        return self.VALUE == other_instance.VALUE\n",
    "\n",
    "    def __hash__(self):\n",
    "        return hash(self.name().encode())\n",
    "    \n",
    "    def name(self):\n",
    "        return f\"{self.RANK.value} of {self.SUIT.value}\"\n",
    "    \n",
    "    \n",
    "class CardDeck:\n",
    "    \n",
    "    __deck__ = []\n",
    "    __popped__ = []\n",
    "\n",
    "    def __init__(self):\n",
    "        self.reset_deck()\n",
    "\n",
    "    def reset_deck(self):\n",
    "        self.__deck__ = []\n",
    "        self.__popped__ = []\n",
    "        for suit in Suit:\n",
    "            for rank in Rank:\n",
    "                self.__deck__.append(Card(suit, rank)) \n",
    "        shuffle(self.__deck__)\n",
    "\n",
    "    def pop(self):\n",
    "        card = self.__deck__.pop()\n",
    "        self.__popped__.append(card)\n",
    "        return card\n",
    "    \n",
    "    def in_deck(self, card):\n",
    "        return card in self.__deck__\n",
    "    \n",
    "    def is_popped(self, card):\n",
    "        return card in self.__popped__\n",
    "    \n",
    "        \n",
    "\n",
    "\n",
    "    \n",
    "\n",
    "\n"
   ]
  },
  {
   "cell_type": "code",
   "execution_count": 378,
   "metadata": {},
   "outputs": [],
   "source": [
    "class Player:\n",
    "    \"\"\"Represent one player in one particular game\"\"\"\n",
    "    __hand__ = None\n",
    "    __hand_size__ = 0\n",
    "    __changes__ = 0\n",
    "    __allow_changes__ = False\n",
    "    \n",
    "    def __init__(self, hand_size=5, allow_changes=False):\n",
    "        self.__hand__ = []\n",
    "        self.__allow_changes__ = allow_changes\n",
    "        self.__hand_size__ = hand_size\n",
    "    \n",
    "    def change_card(self, to_change, as_change):\n",
    "        \"Change card (from, to)\"\n",
    "        if self.__allow_changes__:\n",
    "            if self.__changes__ < self.__hand_size__:\n",
    "                self.remove_card(to_change)\n",
    "                self.add_card(as_change)\n",
    "                self.__changes__ += 1\n",
    "            else:\n",
    "                raise Exception(\"Max amount of changes reached\")    \n",
    "        else:\n",
    "            raise Exception(\"Changes are not allowed\")\n",
    "    \n",
    "    def add_card(self, card):\n",
    "        if len(self.__hand__) < self.__hand_size__:\n",
    "            self.__hand__.append(card)\n",
    "        else:\n",
    "            raise Exception(\"Maximum amount of cards reached\")\n",
    "\n",
    "    def remove_card(self, card):\n",
    "        if len(self.__hand__) != 0:\n",
    "            self.__hand__.remove(card)\n",
    "        else:\n",
    "            raise Exception(\"No card in hand\")\n",
    "    \n",
    "    def get_hand(self):\n",
    "        return self.__hand__\n",
    "            \n",
    "\n",
    "class Game:\n",
    "    __players__ = None\n",
    "    __is_finished__ = None\n",
    "    __is_started__ = False\n",
    "    __card_deck__ = None\n",
    "    __cards_in_hand = None\n",
    "    \n",
    "    def __init__(self, cards_in_hand=5):\n",
    "        self.__players__ = []\n",
    "        self.__is_finished__ = False\n",
    "        self.__card_deck__ = CardDeck()\n",
    "        self.__cards_in_hand__ = cards_in_hand\n",
    "\n",
    "    def add_player(self, player):\n",
    "        if self.__is_started__:\n",
    "            raise Exception(\"Game already started\")\n",
    "\n",
    "        if len(self.__players__) < 5:\n",
    "            self.__players__.append(player)\n",
    "        else:\n",
    "            raise Exception(\"Max number of players reached\")\n",
    "    \n",
    "    def start(self):\n",
    "        self.__is_started__ = True\n",
    "        for player in self.__players__:\n",
    "            for _ in range(self.__cards_in_hand__):\n",
    "                player.add_card(self.__card_deck__.pop())\n",
    "\n",
    "    def check_hand(self, player):\n",
    "        cards = player.get_hand()\n",
    "        cards.sort(reverse=True)\n",
    "\n",
    "        highest_hand = PokerHands.HIGH_CARD\n",
    "        result = (PokerHands.HIGH_CARD, cards[0])\n",
    "        \n",
    "        if PokerHands.STRAIGHT > highest_hand:\n",
    "            straight = self.check_straight(cards)\n",
    "            if straight:\n",
    "                if self.check_flush(straight):\n",
    "                    highest_hand = PokerHands.STRAIGHT_FLUSH\n",
    "                    result = (highest_hand, straight[0])\n",
    "                else:\n",
    "                    highest_hand = PokerHands.STRAIGHT\n",
    "                    result = (highest_hand, straight[0])\n",
    "\n",
    "        if PokerHands.QUADS > highest_hand:\n",
    "            quads = self.check_duplicate_cards(cards, times=4)\n",
    "            if quads:\n",
    "                highest_hand = PokerHands.QUADS\n",
    "                result = (highest_hand, quads[0])\n",
    "        \n",
    "        if PokerHands.ONE_PAIR > highest_hand:\n",
    "            pair = self.check_duplicate_cards(cards, times=2)\n",
    "            if pair:\n",
    "                highest_hand = PokerHands.ONE_PAIR\n",
    "                result = (highest_hand, pair[0])\n",
    "                print(f\"RESULT: {result}\")\n",
    "                \n",
    "                other_cards = list(filter(lambda x: x != pair[0], cards))\n",
    "                full_house = self.check_duplicate_cards(other_cards, times=3)\n",
    "                if full_house:    ### https://boardgames.stackexchange.com/questions/13743/who-has-the-winning-hand-in-texas-holdem-different-full-house-hands\n",
    "                    highest_hand = PokerHands.FULL_HOUSE\n",
    "                    result = (highest_hand, (full_house[0], pair[0]))\n",
    "                if PokerHands.TWO_PAIRS > highest_hand:\n",
    "                    second_pair = self.check_duplicate_cards(other_cards, times=2)\n",
    "                    if second_pair:\n",
    "                        highest_hand = PokerHands.TWO_PAIRS\n",
    "                        result = (highest_hand, (second_pair[0], pair[0]))\n",
    "                \n",
    "        if PokerHands.FLUSH > highest_hand:\n",
    "            flush = self.check_flush(cards)\n",
    "            if flush:\n",
    "                highest_hand = PokerHands.FLUSH\n",
    "                result = (highest_hand, flush[0])\n",
    "        \n",
    "        if PokerHands.SET > highest_hand:\n",
    "            set_seq = self.check_duplicate_cards(cards, times=3)\n",
    "            if set_seq:\n",
    "                highest_hand = PokerHands.SET\n",
    "                result = (highest_hand, set_seq[0])\n",
    "\n",
    "        return result\n",
    "\n",
    "    def showdown(self):\n",
    "        results = dict()\n",
    "        for player in self.__players__:\n",
    "            results[player] = self.check_hand(player)\n",
    "            print(f\"{player}: {results[player]}\")\n",
    "        max_values = [player for player, value in results.items() if value == max(results.values())]\n",
    "        return max_values\n",
    "    \n",
    "    @staticmethod\n",
    "    def check_duplicate_cards(hand, times=2):\n",
    "        \"\"\"Waiting for an <list:Cards> as an input, returns subsequence which is repeating\"\"\"\n",
    "        hand.sort(reverse=True)    # To find senior subsequences first\n",
    "        ranks = [element.VALUE for element in hand]\n",
    "        unique_hand_ranks = list(set(ranks))\n",
    "        for unique_rank in unique_hand_ranks:\n",
    "            if ranks.count(unique_rank) == times:\n",
    "                return list(filter(lambda x: x.VALUE == unique_rank, hand))\n",
    "        return None\n",
    "\n",
    "    @staticmethod\n",
    "    def check_straight(hand):\n",
    "        \"\"\"Waiting for an <list:Cards> as an input, at least 4 elements long, returns subsequence which is straight\"\"\"\n",
    "        hand.sort(reverse=True)    # To find senior subsequences first\n",
    "        for subsequence in zip(*(hand[i:] for i in range(5))):\n",
    "            ## Check if sequence is just a descending sequence - we're getting STRAIGHT_FLUSH\n",
    "            if [x.VALUE for x in subsequence] == list(range(subsequence[0].VALUE,subsequence[-1].VALUE - 1, -1)):\n",
    "                return list(subsequence)\n",
    "        return None\n",
    "        \n",
    "    @staticmethod\n",
    "    def check_flush(hand):\n",
    "        hand.sort(reverse=True)\n",
    "        hand_suits = [element.SUIT for element in hand]\n",
    "        unique_hand_suits = list(set(hand_suits))\n",
    "        for suit in unique_hand_suits:\n",
    "            if hand_suits.count(suit) == 5:\n",
    "                return list(filter(lambda x: x.SUIT == suit, hand))\n",
    "        return None\n",
    "\n",
    "    def change_card(self, player, card):\n",
    "        player.change_card(card, self.__card_deck__.pop())\n",
    "\n",
    "    def finish(self):\n",
    "        self.__is_finished__ = True\n"
   ]
  },
  {
   "cell_type": "code",
   "execution_count": 495,
   "metadata": {},
   "outputs": [
    {
     "name": "stdout",
     "output_type": "stream",
     "text": [
      "RESULT: (<PokerHands.ONE_PAIR: 15>, <Card: 8 of clubs>)\n",
      "<__main__.Player object at 0x7fe6ed612da0>: (<PokerHands.TWO_PAIRS: 16>, (<Card: 14 of hearts>, <Card: 8 of clubs>))\n",
      "<__main__.Player object at 0x7fe6ed612b38>: (<PokerHands.HIGH_CARD: 0>, <Card: 13 of diamonds>)\n",
      "<__main__.Player object at 0x7fe6ed612c50>: (<PokerHands.HIGH_CARD: 0>, <Card: 12 of spades>)\n",
      "RESULT: (<PokerHands.ONE_PAIR: 15>, <Card: 10 of hearts>)\n",
      "<__main__.Player object at 0x7fe6ed612c18>: (<PokerHands.TWO_PAIRS: 16>, (<Card: 11 of diamonds>, <Card: 10 of hearts>))\n",
      "RESULT: (<PokerHands.ONE_PAIR: 15>, <Card: 12 of diamonds>)\n",
      "<__main__.Player object at 0x7fe6ed53d668>: (<PokerHands.ONE_PAIR: 15>, <Card: 12 of diamonds>)\n"
     ]
    },
    {
     "data": {
      "text/plain": [
       "[<Card: 14 of hearts>,\n",
       " <Card: 14 of diamonds>,\n",
       " <Card: 8 of clubs>,\n",
       " <Card: 8 of hearts>,\n",
       " <Card: 3 of spades>]"
      ]
     },
     "execution_count": 495,
     "metadata": {},
     "output_type": "execute_result"
    }
   ],
   "source": [
    "game = Game()\n",
    "player1 = Player()\n",
    "player2 = Player()\n",
    "player3 = Player()\n",
    "player4 = Player()\n",
    "player5 = Player()\n",
    "game.add_player(player1)\n",
    "game.add_player(player2)\n",
    "game.add_player(player3)\n",
    "game.add_player(player4)\n",
    "game.add_player(player5)\n",
    "game.start()\n",
    "game.showdown()[0].get_hand()"
   ]
  },
  {
   "cell_type": "code",
   "execution_count": 377,
   "metadata": {},
   "outputs": [
    {
     "data": {
      "text/plain": [
       "[<Card: 12 of clubs>,\n",
       " <Card: 7 of clubs>,\n",
       " <Card: 7 of hearts>,\n",
       " <Card: 2 of hearts>,\n",
       " <Card: 2 of diamonds>]"
      ]
     },
     "execution_count": 377,
     "metadata": {},
     "output_type": "execute_result"
    }
   ],
   "source": [
    "game.__players__[4].get_hand()"
   ]
  },
  {
   "cell_type": "code",
   "execution_count": 333,
   "metadata": {},
   "outputs": [],
   "source": [
    "v.sort()"
   ]
  },
  {
   "cell_type": "code",
   "execution_count": 239,
   "metadata": {},
   "outputs": [
    {
     "data": {
      "text/plain": [
       "[<Card: 2 of diamonds>,\n",
       " <Card: 3 of clubs>,\n",
       " <Card: 3 of hearts>,\n",
       " <Card: 5 of diamonds>,\n",
       " <Card: 7 of diamonds>]"
      ]
     },
     "execution_count": 239,
     "metadata": {},
     "output_type": "execute_result"
    }
   ],
   "source": [
    "v"
   ]
  },
  {
   "cell_type": "code",
   "execution_count": null,
   "metadata": {},
   "outputs": [],
   "source": [
    "class People:\n",
    "    __peoples__ = []\n",
    "    age = None\n",
    "    def __init__(self, age):\n",
    "        self.age = age\n",
    "\n",
    "    @classmethod\n",
    "    def create(cls, age):\n",
    "        ppl = cls(age)\n",
    "        \n",
    "        "
   ]
  },
  {
   "cell_type": "code",
   "execution_count": null,
   "metadata": {},
   "outputs": [],
   "source": []
  },
  {
   "cell_type": "code",
   "execution_count": null,
   "metadata": {},
   "outputs": [],
   "source": []
  },
  {
   "cell_type": "code",
   "execution_count": null,
   "metadata": {},
   "outputs": [],
   "source": []
  },
  {
   "cell_type": "code",
   "execution_count": null,
   "metadata": {},
   "outputs": [],
   "source": []
  },
  {
   "cell_type": "code",
   "execution_count": null,
   "metadata": {},
   "outputs": [],
   "source": [
    "print(list(range(5)))"
   ]
  },
  {
   "cell_type": "code",
   "execution_count": null,
   "metadata": {},
   "outputs": [],
   "source": [
    "a = 1"
   ]
  },
  {
   "cell_type": "code",
   "execution_count": null,
   "metadata": {},
   "outputs": [],
   "source": [
    "B = (PokerHands.FULL_HOUSE, (Rank.TEN, Rank.THREE))"
   ]
  },
  {
   "cell_type": "code",
   "execution_count": null,
   "metadata": {},
   "outputs": [],
   "source": [
    "a = [Rank.TEN, Rank.THREE, Rank.FIVE, Rank.TEN]\n"
   ]
  },
  {
   "cell_type": "code",
   "execution_count": null,
   "metadata": {},
   "outputs": [],
   "source": [
    "set(a)"
   ]
  },
  {
   "cell_type": "code",
   "execution_count": null,
   "metadata": {},
   "outputs": [],
   "source": [
    "B"
   ]
  },
  {
   "cell_type": "code",
   "execution_count": null,
   "metadata": {},
   "outputs": [],
   "source": [
    "c1 = Card(Suit.CLUBS, Rank.KING)\n",
    "c2 = Card(Suit.DIAMONDS, Rank.ACE)"
   ]
  },
  {
   "cell_type": "code",
   "execution_count": 262,
   "metadata": {},
   "outputs": [],
   "source": [
    "a = [Card(Suit.DIAMONDS, Rank.ACE), Card(Suit.CLUBS, Rank.ACE), Card(Suit.CLUBS, Rank.TEN), Card(Suit.CLUBS, Rank.JACK), Card(Suit.HEARTS, Rank.QUEEN), Card(Suit.DIAMONDS, Rank.NINE)]"
   ]
  },
  {
   "cell_type": "code",
   "execution_count": 263,
   "metadata": {},
   "outputs": [
    {
     "data": {
      "text/plain": [
       "True"
      ]
     },
     "execution_count": 263,
     "metadata": {},
     "output_type": "execute_result"
    }
   ],
   "source": [
    "a[0] == a[1]"
   ]
  },
  {
   "cell_type": "code",
   "execution_count": 499,
   "metadata": {},
   "outputs": [
    {
     "ename": "TypeError",
     "evalue": "Object of type 'Card' is not JSON serializable",
     "output_type": "error",
     "traceback": [
      "\u001b[0;31m---------------------------------------------------------------------------\u001b[0m",
      "\u001b[0;31mTypeError\u001b[0m                                 Traceback (most recent call last)",
      "\u001b[0;32m<ipython-input-499-247be0593739>\u001b[0m in \u001b[0;36m<module>\u001b[0;34m()\u001b[0m\n\u001b[1;32m      1\u001b[0m \u001b[0;32mimport\u001b[0m \u001b[0mjson\u001b[0m\u001b[0;34m\u001b[0m\u001b[0;34m\u001b[0m\u001b[0m\n\u001b[0;32m----> 2\u001b[0;31m \u001b[0mjson\u001b[0m\u001b[0;34m.\u001b[0m\u001b[0mdumps\u001b[0m\u001b[0;34m(\u001b[0m\u001b[0mdict\u001b[0m\u001b[0;34m(\u001b[0m\u001b[0menumerate\u001b[0m\u001b[0;34m(\u001b[0m\u001b[0ma\u001b[0m\u001b[0;34m)\u001b[0m\u001b[0;34m)\u001b[0m\u001b[0;34m)\u001b[0m\u001b[0;34m\u001b[0m\u001b[0;34m\u001b[0m\u001b[0m\n\u001b[0m",
      "\u001b[0;32m/usr/lib/python3.6/json/__init__.py\u001b[0m in \u001b[0;36mdumps\u001b[0;34m(obj, skipkeys, ensure_ascii, check_circular, allow_nan, cls, indent, separators, default, sort_keys, **kw)\u001b[0m\n\u001b[1;32m    229\u001b[0m         \u001b[0mcls\u001b[0m \u001b[0;32mis\u001b[0m \u001b[0;32mNone\u001b[0m \u001b[0;32mand\u001b[0m \u001b[0mindent\u001b[0m \u001b[0;32mis\u001b[0m \u001b[0;32mNone\u001b[0m \u001b[0;32mand\u001b[0m \u001b[0mseparators\u001b[0m \u001b[0;32mis\u001b[0m \u001b[0;32mNone\u001b[0m \u001b[0;32mand\u001b[0m\u001b[0;34m\u001b[0m\u001b[0;34m\u001b[0m\u001b[0m\n\u001b[1;32m    230\u001b[0m         default is None and not sort_keys and not kw):\n\u001b[0;32m--> 231\u001b[0;31m         \u001b[0;32mreturn\u001b[0m \u001b[0m_default_encoder\u001b[0m\u001b[0;34m.\u001b[0m\u001b[0mencode\u001b[0m\u001b[0;34m(\u001b[0m\u001b[0mobj\u001b[0m\u001b[0;34m)\u001b[0m\u001b[0;34m\u001b[0m\u001b[0;34m\u001b[0m\u001b[0m\n\u001b[0m\u001b[1;32m    232\u001b[0m     \u001b[0;32mif\u001b[0m \u001b[0mcls\u001b[0m \u001b[0;32mis\u001b[0m \u001b[0;32mNone\u001b[0m\u001b[0;34m:\u001b[0m\u001b[0;34m\u001b[0m\u001b[0;34m\u001b[0m\u001b[0m\n\u001b[1;32m    233\u001b[0m         \u001b[0mcls\u001b[0m \u001b[0;34m=\u001b[0m \u001b[0mJSONEncoder\u001b[0m\u001b[0;34m\u001b[0m\u001b[0;34m\u001b[0m\u001b[0m\n",
      "\u001b[0;32m/usr/lib/python3.6/json/encoder.py\u001b[0m in \u001b[0;36mencode\u001b[0;34m(self, o)\u001b[0m\n\u001b[1;32m    197\u001b[0m         \u001b[0;31m# exceptions aren't as detailed.  The list call should be roughly\u001b[0m\u001b[0;34m\u001b[0m\u001b[0;34m\u001b[0m\u001b[0;34m\u001b[0m\u001b[0m\n\u001b[1;32m    198\u001b[0m         \u001b[0;31m# equivalent to the PySequence_Fast that ''.join() would do.\u001b[0m\u001b[0;34m\u001b[0m\u001b[0;34m\u001b[0m\u001b[0;34m\u001b[0m\u001b[0m\n\u001b[0;32m--> 199\u001b[0;31m         \u001b[0mchunks\u001b[0m \u001b[0;34m=\u001b[0m \u001b[0mself\u001b[0m\u001b[0;34m.\u001b[0m\u001b[0miterencode\u001b[0m\u001b[0;34m(\u001b[0m\u001b[0mo\u001b[0m\u001b[0;34m,\u001b[0m \u001b[0m_one_shot\u001b[0m\u001b[0;34m=\u001b[0m\u001b[0;32mTrue\u001b[0m\u001b[0;34m)\u001b[0m\u001b[0;34m\u001b[0m\u001b[0;34m\u001b[0m\u001b[0m\n\u001b[0m\u001b[1;32m    200\u001b[0m         \u001b[0;32mif\u001b[0m \u001b[0;32mnot\u001b[0m \u001b[0misinstance\u001b[0m\u001b[0;34m(\u001b[0m\u001b[0mchunks\u001b[0m\u001b[0;34m,\u001b[0m \u001b[0;34m(\u001b[0m\u001b[0mlist\u001b[0m\u001b[0;34m,\u001b[0m \u001b[0mtuple\u001b[0m\u001b[0;34m)\u001b[0m\u001b[0;34m)\u001b[0m\u001b[0;34m:\u001b[0m\u001b[0;34m\u001b[0m\u001b[0;34m\u001b[0m\u001b[0m\n\u001b[1;32m    201\u001b[0m             \u001b[0mchunks\u001b[0m \u001b[0;34m=\u001b[0m \u001b[0mlist\u001b[0m\u001b[0;34m(\u001b[0m\u001b[0mchunks\u001b[0m\u001b[0;34m)\u001b[0m\u001b[0;34m\u001b[0m\u001b[0;34m\u001b[0m\u001b[0m\n",
      "\u001b[0;32m/usr/lib/python3.6/json/encoder.py\u001b[0m in \u001b[0;36miterencode\u001b[0;34m(self, o, _one_shot)\u001b[0m\n\u001b[1;32m    255\u001b[0m                 \u001b[0mself\u001b[0m\u001b[0;34m.\u001b[0m\u001b[0mkey_separator\u001b[0m\u001b[0;34m,\u001b[0m \u001b[0mself\u001b[0m\u001b[0;34m.\u001b[0m\u001b[0mitem_separator\u001b[0m\u001b[0;34m,\u001b[0m \u001b[0mself\u001b[0m\u001b[0;34m.\u001b[0m\u001b[0msort_keys\u001b[0m\u001b[0;34m,\u001b[0m\u001b[0;34m\u001b[0m\u001b[0;34m\u001b[0m\u001b[0m\n\u001b[1;32m    256\u001b[0m                 self.skipkeys, _one_shot)\n\u001b[0;32m--> 257\u001b[0;31m         \u001b[0;32mreturn\u001b[0m \u001b[0m_iterencode\u001b[0m\u001b[0;34m(\u001b[0m\u001b[0mo\u001b[0m\u001b[0;34m,\u001b[0m \u001b[0;36m0\u001b[0m\u001b[0;34m)\u001b[0m\u001b[0;34m\u001b[0m\u001b[0;34m\u001b[0m\u001b[0m\n\u001b[0m\u001b[1;32m    258\u001b[0m \u001b[0;34m\u001b[0m\u001b[0m\n\u001b[1;32m    259\u001b[0m def _make_iterencode(markers, _default, _encoder, _indent, _floatstr,\n",
      "\u001b[0;32m/usr/lib/python3.6/json/encoder.py\u001b[0m in \u001b[0;36mdefault\u001b[0;34m(self, o)\u001b[0m\n\u001b[1;32m    178\u001b[0m         \"\"\"\n\u001b[1;32m    179\u001b[0m         raise TypeError(\"Object of type '%s' is not JSON serializable\" %\n\u001b[0;32m--> 180\u001b[0;31m                         o.__class__.__name__)\n\u001b[0m\u001b[1;32m    181\u001b[0m \u001b[0;34m\u001b[0m\u001b[0m\n\u001b[1;32m    182\u001b[0m     \u001b[0;32mdef\u001b[0m \u001b[0mencode\u001b[0m\u001b[0;34m(\u001b[0m\u001b[0mself\u001b[0m\u001b[0;34m,\u001b[0m \u001b[0mo\u001b[0m\u001b[0;34m)\u001b[0m\u001b[0;34m:\u001b[0m\u001b[0;34m\u001b[0m\u001b[0;34m\u001b[0m\u001b[0m\n",
      "\u001b[0;31mTypeError\u001b[0m: Object of type 'Card' is not JSON serializable"
     ]
    }
   ],
   "source": [
    "import json\n",
    "json.dumps(dict(enumerate(a)))"
   ]
  },
  {
   "cell_type": "code",
   "execution_count": 259,
   "metadata": {},
   "outputs": [
    {
     "name": "stdout",
     "output_type": "stream",
     "text": [
      "(<Card: 14 of diamonds>, <Card: 13 of clubs>, <Card: 12 of hearts>, <Card: 11 of clubs>, <Card: 10 of clubs>)\n",
      "(<Card: 13 of clubs>, <Card: 12 of hearts>, <Card: 11 of clubs>, <Card: 10 of clubs>, <Card: 9 of diamonds>)\n"
     ]
    }
   ],
   "source": [
    "for t in zip(*(a[i:] for i in range(5))):\n",
    "    print(t)"
   ]
  },
  {
   "cell_type": "code",
   "execution_count": null,
   "metadata": {},
   "outputs": [],
   "source": [
    "tetta"
   ]
  },
  {
   "cell_type": "code",
   "execution_count": null,
   "metadata": {},
   "outputs": [],
   "source": [
    "[x.value() for x in a] == list(range(a[0].value(),a[-1].value() - 1, -1))"
   ]
  },
  {
   "cell_type": "code",
   "execution_count": null,
   "metadata": {},
   "outputs": [],
   "source": [
    "c1.value() + 1 == c2.value()"
   ]
  },
  {
   "cell_type": "code",
   "execution_count": null,
   "metadata": {},
   "outputs": [],
   "source": [
    "list(range(a[0].value(),a[-1].value() -1, -1))"
   ]
  },
  {
   "cell_type": "code",
   "execution_count": null,
   "metadata": {},
   "outputs": [],
   "source": [
    "a[0].value()"
   ]
  },
  {
   "cell_type": "code",
   "execution_count": null,
   "metadata": {},
   "outputs": [],
   "source": [
    "a[-1].value()"
   ]
  },
  {
   "cell_type": "code",
   "execution_count": null,
   "metadata": {},
   "outputs": [],
   "source": [
    "max([(PokerHands.ONE_PAIR, (Card(Suit.DIAMONDS, Rank.TEN),Card(Suit.DIAMONDS, Rank.NINE))), (PokerHands.ONE_PAIR, (Card(Suit.DIAMONDS, Rank.EIGHT),Card(Suit.DIAMONDS, Rank.JACK)))])"
   ]
  },
  {
   "cell_type": "code",
   "execution_count": 500,
   "metadata": {},
   "outputs": [
    {
     "ename": "IndexError",
     "evalue": "list index out of range",
     "output_type": "error",
     "traceback": [
      "\u001b[0;31m---------------------------------------------------------------------------\u001b[0m",
      "\u001b[0;31mIndexError\u001b[0m                                Traceback (most recent call last)",
      "\u001b[0;32m<ipython-input-500-d84774d5f0cf>\u001b[0m in \u001b[0;36m<module>\u001b[0;34m()\u001b[0m\n\u001b[1;32m      1\u001b[0m \u001b[0mf\u001b[0m \u001b[0;34m=\u001b[0m \u001b[0;34m[\u001b[0m\u001b[0;36m1\u001b[0m\u001b[0;34m,\u001b[0m\u001b[0;36m2\u001b[0m\u001b[0;34m,\u001b[0m\u001b[0;36m3\u001b[0m\u001b[0;34m,\u001b[0m\u001b[0;36m4\u001b[0m\u001b[0;34m]\u001b[0m\u001b[0;34m\u001b[0m\u001b[0;34m\u001b[0m\u001b[0m\n\u001b[0;32m----> 2\u001b[0;31m \u001b[0;32mif\u001b[0m \u001b[0mf\u001b[0m\u001b[0;34m[\u001b[0m\u001b[0;36m4\u001b[0m\u001b[0;34m]\u001b[0m\u001b[0;34m:\u001b[0m\u001b[0;34m\u001b[0m\u001b[0;34m\u001b[0m\u001b[0m\n\u001b[0m\u001b[1;32m      3\u001b[0m     \u001b[0mprint\u001b[0m\u001b[0;34m(\u001b[0m\u001b[0;34m'hello'\u001b[0m\u001b[0;34m)\u001b[0m\u001b[0;34m\u001b[0m\u001b[0;34m\u001b[0m\u001b[0m\n",
      "\u001b[0;31mIndexError\u001b[0m: list index out of range"
     ]
    }
   ],
   "source": [
    "f = [1,2,3,4]\n",
    "if f[4]:\n",
    "    print('hello')\n"
   ]
  },
  {
   "cell_type": "code",
   "execution_count": 251,
   "metadata": {},
   "outputs": [
    {
     "name": "stdout",
     "output_type": "stream",
     "text": [
      "yes\n"
     ]
    }
   ],
   "source": [
    "if tuple('yeye'):\n",
    "    print('yes')"
   ]
  },
  {
   "cell_type": "code",
   "execution_count": null,
   "metadata": {},
   "outputs": [],
   "source": []
  }
 ],
 "metadata": {
  "kernelspec": {
   "display_name": "Python 3",
   "language": "python",
   "name": "python3"
  },
  "language_info": {
   "codemirror_mode": {
    "name": "ipython",
    "version": 3
   },
   "file_extension": ".py",
   "mimetype": "text/x-python",
   "name": "python",
   "nbconvert_exporter": "python",
   "pygments_lexer": "ipython3",
   "version": "3.6.8"
  }
 },
 "nbformat": 4,
 "nbformat_minor": 2
}
